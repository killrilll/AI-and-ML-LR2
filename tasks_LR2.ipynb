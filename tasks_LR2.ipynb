{
 "cells": [
  {
   "cell_type": "markdown",
   "id": "ff60d241-d7d2-4906-9c57-8094cd180371",
   "metadata": {},
   "source": [
    "**1. Создание и изменение массивов**"
   ]
  },
  {
   "cell_type": "code",
   "execution_count": 2,
   "id": "9ca8eacc-1a2e-457a-9006-0502538a4d7b",
   "metadata": {},
   "outputs": [
    {
     "name": "stdout",
     "output_type": "stream",
     "text": [
      "[[ 2  4  6]\n",
      " [ 8 10  0]\n",
      " [ 0  0  0]]\n"
     ]
    }
   ],
   "source": [
    "import numpy as np\n",
    "arr = np.arange(1, 10).reshape(3, 3)\n",
    "arr *= 2\n",
    "arr[arr > 10] = 0\n",
    "\n",
    "print(arr)"
   ]
  },
  {
   "cell_type": "markdown",
   "id": "e0275c0d-694f-4002-8430-0c54f3b81dc4",
   "metadata": {},
   "source": [
    "**2. Работа с булевыми масками**"
   ]
  },
  {
   "cell_type": "code",
   "execution_count": 5,
   "id": "d6f7b3e3-3c96-47b6-aa06-bbc7328fb8c2",
   "metadata": {},
   "outputs": [
    {
     "data": {
      "text/plain": [
       "(array([11, -1, 11, 18, -1, 66, 21, -1, 37, 33, -1, 37, 84, -1, 68, -1, 46,\n",
       "        91, 32,  9]),\n",
       " array([10, 85, 65,  5, 65, 45]))"
      ]
     },
     "execution_count": 5,
     "metadata": {},
     "output_type": "execute_result"
    }
   ],
   "source": [
    "arr = np.random.randint(1, 101, size=20)\n",
    "\n",
    "mask = arr % 5 == 0\n",
    "div_by_5 = arr[mask]\n",
    "\n",
    "arr[mask] = -1\n",
    "\n",
    "arr, div_by_5"
   ]
  },
  {
   "cell_type": "markdown",
   "id": "dd5cba64-c469-491f-8621-d00d8831b574",
   "metadata": {},
   "source": [
    "**3. Объединение и разбиение массивов**"
   ]
  },
  {
   "cell_type": "code",
   "execution_count": 18,
   "id": "f45a4948-6ad7-4858-af1f-dbe781cf3250",
   "metadata": {},
   "outputs": [
    {
     "name": "stdout",
     "output_type": "stream",
     "text": [
      "[[21 21 22 33 35]] [[15  1 26 16 27]] \n",
      "\n",
      "[[21 21 22 33 35]\n",
      " [15  1 26 16 27]] \n",
      "\n",
      "Разделенный массив 1: [[21 21 22 33 35]]\n",
      "Разделенный массив 2: [[15  1 26 16 27]]\n"
     ]
    }
   ],
   "source": [
    "arr1 = np.random.randint(0, 51, size=(1, 5))\n",
    "arr2 = np.random.randint(0, 51, size=(1, 5))\n",
    "\n",
    "print(arr1, arr2, \"\\n\")\n",
    "\n",
    "com_arr = np.vstack((arr1, arr2))\n",
    "\n",
    "print(com_arr, \"\\n\")\n",
    "\n",
    "split_arr1, split_arr2 = np.vsplit(com_arr, 2)\n",
    "print(\"Разделенный массив 1:\", split_arr1)\n",
    "print(\"Разделенный массив 2:\", split_arr2)"
   ]
  },
  {
   "cell_type": "markdown",
   "id": "7b5ede78-0ee8-44bc-bda9-2594293c39b7",
   "metadata": {},
   "source": [
    "**4. Генерация и работа с линейными последовательностями**"
   ]
  },
  {
   "cell_type": "code",
   "execution_count": 24,
   "id": "eb2115e3-5a20-4ef9-a5c4-ce7a6ecce8b9",
   "metadata": {},
   "outputs": [
    {
     "name": "stdout",
     "output_type": "stream",
     "text": [
      "Массив: [-10.          -9.59183673  -9.18367347  -8.7755102   -8.36734694\n",
      "  -7.95918367  -7.55102041  -7.14285714  -6.73469388  -6.32653061\n",
      "  -5.91836735  -5.51020408  -5.10204082  -4.69387755  -4.28571429\n",
      "  -3.87755102  -3.46938776  -3.06122449  -2.65306122  -2.24489796\n",
      "  -1.83673469  -1.42857143  -1.02040816  -0.6122449   -0.20408163\n",
      "   0.20408163   0.6122449    1.02040816   1.42857143   1.83673469\n",
      "   2.24489796   2.65306122   3.06122449   3.46938776   3.87755102\n",
      "   4.28571429   4.69387755   5.10204082   5.51020408   5.91836735\n",
      "   6.32653061   6.73469388   7.14285714   7.55102041   7.95918367\n",
      "   8.36734694   8.7755102    9.18367347   9.59183673  10.        ]\n",
      "Сумма всех элементов: 7.105427357601002e-15\n",
      "Сумма положительных элементов: 127.55102040816328\n",
      "Сумма отрицательных элементов: -127.55102040816327\n"
     ]
    }
   ],
   "source": [
    "arr = np.linspace(-10, 10, 50)\n",
    "\n",
    "sum_el = np.sum(arr)\n",
    "sum_positive = np.sum(arr[arr > 0])\n",
    "sum_negative = np.sum(arr[arr < 0])\n",
    "\n",
    "print(\"Массив:\", arr)\n",
    "print(\"Сумма всех элементов:\", sum_el)\n",
    "print(\"Сумма положительных элементов:\", sum_positive)\n",
    "print(\"Сумма отрицательных элементов:\", sum_negative)"
   ]
  },
  {
   "cell_type": "markdown",
   "id": "fa40f0e5-849f-4c4d-98ff-f2b4c84ecbe3",
   "metadata": {},
   "source": [
    "**5. Работа  с диагональными и единичными матрицами**"
   ]
  },
  {
   "cell_type": "code",
   "execution_count": 45,
   "id": "8bf21a58-a0d9-4787-8817-bccccc2746db",
   "metadata": {},
   "outputs": [
    {
     "name": "stdout",
     "output_type": "stream",
     "text": [
      "Единичная матрица:\n",
      " [[1. 0. 0. 0.]\n",
      " [0. 1. 0. 0.]\n",
      " [0. 0. 1. 0.]\n",
      " [0. 0. 0. 1.]]\n",
      "Сумма элементов единичной матрицы: 4.0\n",
      "\n",
      "Диагональная матрица:\n",
      " [[ 5  0  0  0]\n",
      " [ 0 10  0  0]\n",
      " [ 0  0 15  0]\n",
      " [ 0  0  0 20]]\n",
      "Сумма элементов диагональной матрицы: 50\n"
     ]
    }
   ],
   "source": [
    "arr_eye = np.eye(4)\n",
    "arr_eye_dig = np.diag([5, 10, 15, 20])\n",
    "\n",
    "sum_arr_eye = np.sum(arr_eye)\n",
    "sum_arr_eye_dig = np.sum(arr_eye_dig)\n",
    "\n",
    "print(\"Единичная матрица:\\n\", arr_eye)\n",
    "print(\"Сумма элементов единичной матрицы:\", sum_arr_eye)\n",
    "\n",
    "print(\"\\nДиагональная матрица:\\n\", arr_eye_dig)\n",
    "print(\"Сумма элементов диагональной матрицы:\", sum_arr_eye_dig)"
   ]
  },
  {
   "cell_type": "markdown",
   "id": "8efc7669-b140-4f43-b62d-bf6f78cf802b",
   "metadata": {},
   "source": [
    "**6. Создание и базовые операции с матрицами**"
   ]
  },
  {
   "cell_type": "code",
   "execution_count": 54,
   "id": "61745f9e-299f-44dc-acd6-d811531828ab",
   "metadata": {},
   "outputs": [
    {
     "name": "stdout",
     "output_type": "stream",
     "text": [
      "Первая матрица:\n",
      " [[ 6  8 15]\n",
      " [ 4  9 19]\n",
      " [ 2  9 14]]\n",
      "Вторая матрица:\n",
      " [[ 9  9 10]\n",
      " [19  1 11]\n",
      " [ 4  9  1]]\n",
      "Сумма матриц:\n",
      " [[15 17 25]\n",
      " [23 10 30]\n",
      " [ 6 18 15]]\n",
      "Разность матриц:\n",
      " [[ -3  -1   5]\n",
      " [-15   8   8]\n",
      " [ -2   0  13]]\n",
      "Поэлементное произведение матриц:\n",
      " [[ 54  72 150]\n",
      " [ 76   9 209]\n",
      " [  8  81  14]]\n"
     ]
    }
   ],
   "source": [
    "matrix1 = np.matrix(np.random.randint(1, 21, (3, 3)))\n",
    "matrix2 = np.matrix(np.random.randint(1, 21, (3, 3)))\n",
    "\n",
    "sum_matrix = matrix1 + matrix2\n",
    "diff_matrix = matrix1 - matrix2\n",
    "prod_matrix = np.multiply(matrix1, matrix2) \n",
    "\n",
    "print(\"Первая матрица:\\n\", matrix1)\n",
    "print(\"Вторая матрица:\\n\", matrix2)\n",
    "print(\"Сумма матриц:\\n\", sum_matrix)\n",
    "print(\"Разность матриц:\\n\", diff_matrix)\n",
    "print(\"Поэлементное произведение матриц:\\n\", prod_matrix)\n"
   ]
  },
  {
   "cell_type": "markdown",
   "id": "01c9e33d-d180-46c4-abec-f9b584ca1a46",
   "metadata": {},
   "source": [
    "**7. Умножение матриц**"
   ]
  },
  {
   "cell_type": "code",
   "execution_count": 59,
   "id": "16156ed4-68eb-4fe0-87da-5825edc6f580",
   "metadata": {},
   "outputs": [
    {
     "name": "stdout",
     "output_type": "stream",
     "text": [
      "Первая матрица:\n",
      " [[4 7 2]\n",
      " [4 6 7]]\n",
      "Вторая матрица:\n",
      " [[10  1]\n",
      " [ 7  6]\n",
      " [ 2  2]]\n",
      "Результат матричного умножения:\n",
      " [[93 50]\n",
      " [96 54]]\n"
     ]
    }
   ],
   "source": [
    "matrix1 = np.matrix(np.random.randint(1, 11, (2, 3)))\n",
    "matrix2 = np.matrix(np.random.randint(1, 11, (3, 2)))\n",
    "\n",
    "dot_matrix = matrix1 @ matrix2\n",
    "\n",
    "print(\"Первая матрица:\\n\", matrix1)\n",
    "print(\"Вторая матрица:\\n\", matrix2)\n",
    "print(\"Результат матричного умножения:\\n\", dot_matrix)"
   ]
  },
  {
   "cell_type": "markdown",
   "id": "394d415c-7d77-4b26-bb4e-af4c51a0f22a",
   "metadata": {},
   "source": [
    "**8. Определитесь и обратная матрица**"
   ]
  },
  {
   "cell_type": "code",
   "execution_count": 104,
   "id": "86db7169-8635-46a2-bca9-8213ba815a6e",
   "metadata": {},
   "outputs": [
    {
     "name": "stdout",
     "output_type": "stream",
     "text": [
      "Обратная матрица:\n",
      " [[-0.61111111  0.62962963 -0.09259259]\n",
      " [ 0.88888889 -0.7037037   0.07407407]\n",
      " [ 0.22222222 -0.25925926  0.18518519]]\n"
     ]
    }
   ],
   "source": [
    "matrix = np.matrix(np.random.randint(1, 11, (3, 3)))\n",
    "determ = np.linalg.det(matrix)\n",
    "\n",
    "if np.isclose(determ, 0):\n",
    "    print(\"Матрица вырожденна\")\n",
    "else:\n",
    "    print(\"Обратная матрица:\\n\", np.linalg.inv(matrix))"
   ]
  },
  {
   "cell_type": "markdown",
   "id": "6cd8e738-7aa1-4904-a7c1-872c8a04560c",
   "metadata": {},
   "source": [
    "**9. Транспонирование и след матрицы**"
   ]
  },
  {
   "cell_type": "code",
   "execution_count": 108,
   "id": "9393c92d-2e1a-4f1d-9a0d-fb05a202f156",
   "metadata": {},
   "outputs": [
    {
     "name": "stdout",
     "output_type": "stream",
     "text": [
      "Исходная матрица:\n",
      " [[49 47 31 18]\n",
      " [42 21 34 50]\n",
      " [44  4  3 38]\n",
      " [43 25  7  6]]\n",
      "Транспонированная матрица:\n",
      " [[49 42 44 43]\n",
      " [47 21  4 25]\n",
      " [31 34  3  7]\n",
      " [18 50 38  6]]\n",
      "След матрицы: 79\n"
     ]
    }
   ],
   "source": [
    "matrix = np.matrix(np.random.randint(1, 51, (4, 4)))\n",
    "\n",
    "transpons_matrix = matrix.T\n",
    "\n",
    "trace_matrix = np.trace(matrix)\n",
    "\n",
    "print(\"Исходная матрица:\\n\", matrix)\n",
    "print(\"Транспонированная матрица:\\n\", transpons_matrix)\n",
    "print(\"След матрицы:\", trace_matrix)"
   ]
  },
  {
   "cell_type": "markdown",
   "id": "68ddc7b5-c86f-4f99-b970-1b96d35023fc",
   "metadata": {},
   "source": [
    "**10. Системы линейных уравнений**"
   ]
  },
  {
   "cell_type": "code",
   "execution_count": 114,
   "id": "64897ff3-3adc-4b0e-98ef-e2e0b7f8ff75",
   "metadata": {},
   "outputs": [
    {
     "name": "stdout",
     "output_type": "stream",
     "text": [
      "Решение системы:\n",
      " [1.63963964 0.57657658 0.00900901]\n"
     ]
    }
   ],
   "source": [
    "A = np.array([\n",
    "    [2, 3, -1],\n",
    "    [4, -1, 2],\n",
    "    [-3, 5, 4]\n",
    "])\n",
    "B = np.array([5, 6, -2])\n",
    "\n",
    "x = np.linalg.solve(A, B)\n",
    "\n",
    "print(\"Решение системы:\\n\", x)"
   ]
  },
  {
   "cell_type": "markdown",
   "id": "2aaf9f62-39e4-4475-b29f-b4ec8d61cd40",
   "metadata": {},
   "source": [
    "**11. Индивидуальное задание**\n",
    "\n",
    "8. Перераспределение бюджета. Городской бюджет распределяется между\n",
    "образованием, здравоохранением и транспортом. На здравоохранение\n",
    "выделяется в 1.5 раза больше, чем на транспорт, а на образование — на 20%\n",
    "больше, чем на здравоохранение. Всего в бюджете 5 000 000 рублей. Сколько\n",
    "денег выделено на каждую сферу?"
   ]
  },
  {
   "cell_type": "markdown",
   "id": "296a1d4f-251f-4036-ac60-98bedbf17062",
   "metadata": {},
   "source": [
    "X - транспорт; Y - здравоохранение; Z - образование\n",
    "\n",
    "\n",
    "y =  1.5x\n",
    "\n",
    "z = 1.2y\n",
    "\n",
    "x + y + z = 5000000\n",
    "\n",
    "*Система уравнений:*\n",
    "\n",
    "\\begin{cases} \n",
    "x + y + z = 5 000 000 \\\\\n",
    "-1.5x + y = 0 \\\\ \n",
    "-1.2y + z = 0 \n",
    "\\end{cases}\n"
   ]
  },
  {
   "cell_type": "code",
   "execution_count": 260,
   "id": "8f388c64-f262-4ac4-8636-f65d6f130d0b",
   "metadata": {},
   "outputs": [
    {
     "name": "stdout",
     "output_type": "stream",
     "text": [
      "Метод крамера:\n",
      "\n",
      "x = 1162790.70 рублей\n",
      "y = 1744186.05 рублей\n",
      "z = 2093023.26 рублей\n"
     ]
    }
   ],
   "source": [
    "A = np.array([\n",
    "    [1, 1, 1,],\n",
    "    [-1.5, 1, 0],\n",
    "    [0, -1.2, 1]\n",
    "])\n",
    "\n",
    "B = np.array([5000000, 0, 0])\n",
    "\n",
    "det_A = np.linalg.det(A)\n",
    "\n",
    "A_x = A.copy()\n",
    "A_x[:, 0] = B\n",
    "det_A_x = np.linalg.det(A_x)\n",
    "\n",
    "A_y = A.copy()\n",
    "A_y[:, 1] = B\n",
    "det_A_y = np.linalg.det(A_y)\n",
    "\n",
    "A_z = A.copy()\n",
    "A_z[:, 2] = B\n",
    "det_A_z = np.linalg.det(A_z)\n",
    "\n",
    "x = det_A_x / det_A\n",
    "y = det_A_y / det_A\n",
    "z = det_A_z / det_A\n",
    "\n",
    "print(\"Метод крамера:\\n\")\n",
    "print(f\"x = {x:.2f} рублей\")\n",
    "print(f\"y = {y:.2f} рублей\")\n",
    "print(f\"z = {z:.2f} рублей\")"
   ]
  },
  {
   "cell_type": "code",
   "execution_count": 262,
   "id": "78e16689-6eea-4bdc-bed7-7ed1d89a0d34",
   "metadata": {},
   "outputs": [
    {
     "name": "stdout",
     "output_type": "stream",
     "text": [
      "Решение матричным методом:\n",
      "\n",
      "x: 1162790.70 рублей\n",
      "y: 1744186.05 рублей\n",
      "z: 2093023.26 рублей\n"
     ]
    }
   ],
   "source": [
    "results = np.linalg.inv(A) @ B\n",
    "\n",
    "print(\"Решение матричным методом:\\n\")\n",
    "print(f\"x: {results[0]:.2f} рублей\")\n",
    "print(f\"y: {results[1]:.2f} рублей\")\n",
    "print(f\"z: {results[2]:.2f} рублей\")"
   ]
  },
  {
   "cell_type": "code",
   "execution_count": 276,
   "id": "c7c64d4c-bfe1-49a4-8341-677a4e32f55c",
   "metadata": {},
   "outputs": [
    {
     "name": "stdout",
     "output_type": "stream",
     "text": [
      "Решение с помощью np.linalg.solve:\n",
      "\n",
      "x: 1162790.70 рублей\n",
      "y: 1744186.05 рублей\n",
      "z: 2093023.26 рублей\n"
     ]
    }
   ],
   "source": [
    "results_solve = np.linalg.solve(A, B)\n",
    "\n",
    "print(\"Решение с помощью np.linalg.solve:\\n\")\n",
    "print(f\"x: {results_solve[0]:.2f} рублей\")\n",
    "print(f\"y: {results_solve[1]:.2f} рублей\")\n",
    "print(f\"z: {results_solve[2]:.2f} рублей\")"
   ]
  },
  {
   "cell_type": "markdown",
   "id": "bdf028cd-5016-46fa-a966-b00730b4d1ca",
   "metadata": {},
   "source": [
    "**Все методы дали одинаковый результат, т.е. ответ:**\n",
    "\n",
    "Транспорт: 1162790.70 руб.\n",
    "\n",
    "Здравоохранение: 1744186.05 руб.\n",
    "\n",
    "Образование: 2093023.26 руб."
   ]
  }
 ],
 "metadata": {
  "kernelspec": {
   "display_name": "Python [conda env:base] *",
   "language": "python",
   "name": "conda-base-py"
  },
  "language_info": {
   "codemirror_mode": {
    "name": "ipython",
    "version": 3
   },
   "file_extension": ".py",
   "mimetype": "text/x-python",
   "name": "python",
   "nbconvert_exporter": "python",
   "pygments_lexer": "ipython3",
   "version": "3.12.7"
  }
 },
 "nbformat": 4,
 "nbformat_minor": 5
}
